{
  "nbformat": 4,
  "nbformat_minor": 0,
  "metadata": {
    "colab": {
      "provenance": []
    },
    "kernelspec": {
      "name": "python3",
      "display_name": "Python 3"
    },
    "language_info": {
      "name": "python"
    }
  },
  "cells": [
    {
      "cell_type": "markdown",
      "source": [
        "Data Science Ecosystem"
      ],
      "metadata": {
        "id": "4QvETk2nz5TL"
      }
    },
    {
      "cell_type": "markdown",
      "source": [
        "Data Science Tools and Ecosystem"
      ],
      "metadata": {
        "id": "IVvAKeMYz_DP"
      }
    },
    {
      "cell_type": "markdown",
      "source": [
        "In this notebook, Data Science Tools and Ecosystem are summarized."
      ],
      "metadata": {
        "id": "soZ45C2fz9-J"
      }
    },
    {
      "cell_type": "markdown",
      "source": [
        "Some of the popular languages that Data Scientists use are:\n",
        "\n",
        "1.   Python\n",
        "2.   R\n",
        "3.   SQL"
      ],
      "metadata": {
        "id": "DmRu0AcQ_L5F"
      }
    },
    {
      "cell_type": "markdown",
      "source": [
        "Some of the commonly used libraries used by Data Scientists include:\n",
        "\n",
        "\n",
        "1.   NumPy (Python)\n",
        "2.   Pandas (Python)\n",
        "3.   Scikit-learn (Python)\n",
        "4.   Caret (R)\n",
        "5.   dplyr (R)\n",
        "\n"
      ],
      "metadata": {
        "id": "wARg2ocL_hKg"
      }
    },
    {
      "cell_type": "markdown",
      "source": [
        "Data Science Tools:\n",
        "1. Python\n",
        "2. Jupyter Notebook\n",
        "3. Apache Hadoop"
      ],
      "metadata": {
        "id": "jff7LeAo_0Zt"
      }
    },
    {
      "cell_type": "markdown",
      "source": [
        "Below are a few examples of evaluating arithmetic expressions in Python:\n",
        "1. (2+5)*4\n",
        "2. 10//2\n",
        "3. 10%3"
      ],
      "metadata": {
        "id": "IsgJ3fl3_6PR"
      }
    },
    {
      "cell_type": "code",
      "source": [
        "# This a simple arithmetic expression to mutiply then add integers\n",
        "print((3+4)*5)"
      ],
      "metadata": {
        "id": "gMUNvT8zAEKm"
      },
      "execution_count": null,
      "outputs": []
    },
    {
      "cell_type": "code",
      "source": [
        "# This will convert 200 minutes to hours by diving by 60\n",
        "minutes = 200\n",
        "print(minutes//60, \"hours\", minutes%60, \"minutes\")"
      ],
      "metadata": {
        "id": "N1TKLQk-AGsH"
      },
      "execution_count": null,
      "outputs": []
    },
    {
      "cell_type": "markdown",
      "source": [
        "**Objectives:**\n",
        "List popular languages for Data Science:\n",
        "1. Python\n",
        "2. R\n",
        "3. SQL"
      ],
      "metadata": {
        "id": "qO5cp31gALKn"
      }
    },
    {
      "cell_type": "markdown",
      "source": [
        "## Authors: Phuong Thao"
      ],
      "metadata": {
        "id": "MKTYzhJUARFs"
      }
    }
  ]
}